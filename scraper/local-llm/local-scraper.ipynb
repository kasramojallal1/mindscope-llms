{
 "cells": [
  {
   "cell_type": "code",
   "execution_count": 1,
   "id": "2af6c4fb",
   "metadata": {},
   "outputs": [],
   "source": [
    "import requests\n",
    "from bs4 import BeautifulSoup\n",
    "from IPython.display import Markdown, display"
   ]
  },
  {
   "cell_type": "code",
   "execution_count": 2,
   "id": "114927ae",
   "metadata": {},
   "outputs": [],
   "source": [
    "OLLAMA_API = \"http://localhost:11434/api/chat\"\n",
    "HEADERS = {\"Content-Type\": \"application/json\"}\n",
    "MODEL = \"llama3.2\""
   ]
  },
  {
   "cell_type": "code",
   "execution_count": 3,
   "id": "a950e9a9",
   "metadata": {},
   "outputs": [],
   "source": [
    "messages = [\n",
    "    {\"role\": \"user\", \"content\": \"Describe some of the business applications of Generative AI\"}\n",
    "]"
   ]
  },
  {
   "cell_type": "code",
   "execution_count": 4,
   "id": "f0b6f692",
   "metadata": {},
   "outputs": [],
   "source": [
    "payload = {\n",
    "        \"model\": MODEL,\n",
    "        \"messages\": messages,\n",
    "        \"stream\": False\n",
    "    }"
   ]
  },
  {
   "cell_type": "code",
   "execution_count": 5,
   "id": "0a60764f",
   "metadata": {},
   "outputs": [
    {
     "name": "stdout",
     "output_type": "stream",
     "text": [
      "Generative AI has numerous business applications across various industries, including:\n",
      "\n",
      "1. **Content Creation**: AI can generate high-quality content such as articles, blog posts, social media posts, and even entire books. This can help businesses save time and money on content creation.\n",
      "2. **Marketing Automation**: Generative AI can be used to create personalized marketing campaigns, product descriptions, and ad copy that resonate with target audiences.\n",
      "3. **Product Design**: AI can generate 3D models, product designs, and prototypes, streamlining the product development process for businesses in industries like fashion, automotive, and consumer goods.\n",
      "4. **Customer Service Chatbots**: Generative AI-powered chatbots can provide 24/7 customer support, answering frequent questions, and helping to route complex issues to human agents.\n",
      "5. **Predictive Maintenance**: AI can analyze sensor data from machines and predict when maintenance is required, reducing downtime and increasing overall equipment effectiveness in industries like manufacturing and energy.\n",
      "6. **Image Generation**: Generative AI can create high-quality images for advertising, social media, and other marketing materials, reducing the need for expensive photography services.\n",
      "7. **Music and Audio Production**: AI can generate music tracks, sound effects, and audio loops, opening up new creative possibilities for businesses in the music industry.\n",
      "8. **Financial Analysis**: Generative AI can analyze large datasets to identify patterns and predict market trends, helping businesses make more informed investment decisions.\n",
      "9. **Healthcare**: AI can help analyze medical images, generate synthetic data for training models, and even create personalized treatment plans for patients.\n",
      "10. **Supply Chain Optimization**: Generative AI can optimize supply chain logistics, predicting demand fluctuations and streamlining inventory management.\n",
      "\n",
      "Some of the key benefits of using generative AI in business include:\n",
      "\n",
      "* Increased efficiency and productivity\n",
      "* Improved accuracy and consistency\n",
      "* Enhanced customer experience\n",
      "* Reduced costs and increased revenue potential\n",
      "* Access to new markets and products\n",
      "\n",
      "However, it's essential to note that the use of generative AI also raises concerns around:\n",
      "\n",
      "* Job displacement and workforce disruption\n",
      "* Data bias and fairness issues\n",
      "* Security risks and intellectual property protection\n",
      "* Explainability and transparency in AI decision-making processes\n",
      "\n",
      "To mitigate these risks, businesses should carefully consider the application of generative AI in their operations and ensure that they have adequate safeguards in place.\n"
     ]
    }
   ],
   "source": [
    "response = requests.post(OLLAMA_API, json=payload, headers=HEADERS)\n",
    "print(response.json()['message']['content'])"
   ]
  },
  {
   "cell_type": "code",
   "execution_count": 6,
   "id": "67125875",
   "metadata": {},
   "outputs": [
    {
     "name": "stdout",
     "output_type": "stream",
     "text": [
      "Generative AI has numerous business applications across various industries, including:\n",
      "\n",
      "1. **Content Generation**: AI-powered tools can generate high-quality content such as articles, social media posts, product descriptions, and more. This can help businesses reduce content creation costs and improve efficiency.\n",
      "2. **Marketing Automation**: Generative AI can be used to create personalized marketing campaigns, such as customized ads, email newsletters, and social media posts. This helps businesses tailor their marketing efforts to specific customer segments.\n",
      "3. **Product Design and Development**: AI-powered generative design tools can help businesses create innovative product designs, reduce prototyping costs, and speed up the product development process.\n",
      "4. **Customer Service Chatbots**: Generative AI can be used to create advanced chatbots that can understand natural language, respond to customer inquiries, and provide personalized support.\n",
      "5. **Data Analysis and Insights**: Generative AI can help businesses analyze large datasets, identify patterns, and generate insights that can inform business decisions.\n",
      "6. **Image and Video Generation**: AI-powered tools can generate high-quality images and videos for various applications such as marketing, advertising, and entertainment.\n",
      "7. **Music Composition**: Generative AI can be used to create original music tracks, jingles, and sound effects for businesses, film, and television productions.\n",
      "8. **Language Translation**: Generative AI-powered language translation tools can help businesses communicate with global customers and partners in their native languages.\n",
      "9. **Risk Analysis and Credit Scoring**: Generative AI can be used to analyze large datasets and generate credit scores, helping businesses assess creditworthiness and identify potential risks.\n",
      "10. **Supply Chain Optimization**: Generative AI can help businesses optimize supply chain operations by predicting demand, identifying bottlenecks, and recommending inventory management strategies.\n",
      "\n",
      "Some specific examples of companies using generative AI include:\n",
      "\n",
      "* Salesforce: Using AI-powered chatbots to provide personalized customer support\n",
      "* PepsiCo: Using AI-generated content to create engaging social media posts\n",
      "* IKEA: Using AI-powered generative design tools to create innovative product designs\n",
      "* Google: Using AI-powered language translation tools to communicate with global customers\n",
      "* Netflix: Using AI-generated music tracks for its original content\n",
      "\n",
      "These are just a few examples of the many business applications of generative AI. As the technology continues to evolve, we can expect to see even more innovative uses in various industries and sectors.\n"
     ]
    }
   ],
   "source": [
    "import ollama\n",
    "\n",
    "response = ollama.chat(model=MODEL, messages=messages)\n",
    "print(response['message']['content'])"
   ]
  },
  {
   "cell_type": "code",
   "execution_count": 7,
   "id": "f1fab9b6",
   "metadata": {},
   "outputs": [
    {
     "name": "stdout",
     "output_type": "stream",
     "text": [
      "Generative AI has numerous business applications across various industries. Here are some examples:\n",
      "\n",
      "1. **Content Generation**: Automate content creation, such as:\n",
      " * Generating articles, blog posts, and social media content using natural language processing (NLP).\n",
      " * Creating product descriptions, marketing materials, and sales scripts.\n",
      " * Producing music, audio effects, or voiceovers for videos and podcasts.\n",
      "2. **Design and Artwork**: Use Generative AI to create new designs, such as:\n",
      " * Generating logo ideas, brand identities, and visual concepts.\n",
      " *Creating 3D models, illustrations, and graphics for advertising and marketing materials.\n",
      " * Designing logos, icon sets, and other visual elements for branding.\n",
      "3. **Marketing and Advertising**: Leverage Generative AI in marketing campaigns to:\n",
      " * Personalize ad content and messaging based on customer behavior and preferences.\n",
      " * Generate new product ads, banners, and promotional materials.\n",
      " * Create targeted audio clips or voiceover scripts for ads.\n",
      "4. **Product Development**: Apply Generative AI to optimize product design and development, including:\n",
      " * Creating 3D models of products for simulation and testing.\n",
      " * Generating functional prototypes and concept designs.\n",
      " * Analyzing consumer behavior and preferences through market research and trend analysis.\n",
      "5. **Virtual Customer Service**: Implement virtual customer service chatbots that use Generative AI to:\n",
      " * Understand customer queries and provide personalized responses.\n",
      " * Automate mundane tasks, freeing up human CSRs for more complex issues.\n",
      " * Offer proactive advice and suggestions to customers.\n",
      "6. **Data Analysis and Insights**: Utilize Generative AI to explore and analyze large datasets, including:\n",
      " * Identifying patterns and trends in customer behavior and preferences.\n",
      " * Predicting sales, demand, or seasonal fluctuations.\n",
      " * Creating predictive models for risk management, credit scoring, and loan applications.\n",
      "7. **Creative Collaboration**: Leverage Generative AI as a collaborative tool for creative teams, including:\n",
      " * Generating music tracks or sound designs for movies, TV shows, or video games.\n",
      " * Collaborating with musicians to generate new compositions or ideas.\n",
      " * Creating interactive stories and narratives through generative storytelling.\n",
      "8. **Education and Training**: Develop personalized learning experiences using Generative AI, including:\n",
      " * Creating customized educational content, such as lesson plans and tutorials.\n",
      " * Developing adaptive assessments and quizzes that adjust difficulty based on student performance.\n",
      " * Designing scenario-based training simulations for professionals and educators.\n",
      "\n",
      "These applications demonstrate the vast potential of Generative AI in various industries. As the technology continues to evolve, we can expect even more innovative business uses to emerge.\n"
     ]
    }
   ],
   "source": [
    "from openai import OpenAI\n",
    "ollama_via_openai = OpenAI(base_url='http://localhost:11434/v1', api_key='ollama')\n",
    "\n",
    "response = ollama_via_openai.chat.completions.create(\n",
    "    model=MODEL,\n",
    "    messages=messages\n",
    ")\n",
    "\n",
    "print(response.choices[0].message.content)"
   ]
  },
  {
   "cell_type": "code",
   "execution_count": null,
   "id": "8d7dd22e",
   "metadata": {},
   "outputs": [],
   "source": []
  }
 ],
 "metadata": {
  "kernelspec": {
   "display_name": "llms",
   "language": "python",
   "name": "python3"
  },
  "language_info": {
   "codemirror_mode": {
    "name": "ipython",
    "version": 3
   },
   "file_extension": ".py",
   "mimetype": "text/x-python",
   "name": "python",
   "nbconvert_exporter": "python",
   "pygments_lexer": "ipython3",
   "version": "3.11.12"
  }
 },
 "nbformat": 4,
 "nbformat_minor": 5
}
